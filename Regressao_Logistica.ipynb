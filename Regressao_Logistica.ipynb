{
 "cells": [
  {
   "cell_type": "markdown",
   "metadata": {},
   "source": [
    "# Exemplo de Regressão Logística - Fornecedores punidos no SICAF"
   ]
  },
  {
   "cell_type": "markdown",
   "metadata": {},
   "source": [
    "Carregando dados de fornecedores.csv"
   ]
  },
  {
   "cell_type": "code",
   "execution_count": 103,
   "metadata": {},
   "outputs": [
    {
     "data": {
      "text/plain": [
       "Index(['fornecedor_punido', 'qtd_media', 'Socio Laranja',\n",
       "       'Valor Total Homologado em 2017', 'Micro Empresa', 'Não Informado',\n",
       "       'Pequena Empresa', 'qtd_subclasses_cnae', 'Qtd dias inferior a 30',\n",
       "       'qtd_fornecedores', 'socio_com_ceis', 'VALIDO', 'prob_loja'],\n",
       "      dtype='object')"
      ]
     },
     "execution_count": 103,
     "metadata": {},
     "output_type": "execute_result"
    }
   ],
   "source": [
    "import pandas as pd\n",
    "\n",
    "fornecedores_file_path = 'fornecedores.csv'\n",
    "fornecedores_data = pd.read_csv(fornecedores_file_path).iloc[:,1:] # Retira a primeira coluna (índice)\n",
    "fornecedores_data.columns"
   ]
  },
  {
   "cell_type": "code",
   "execution_count": 104,
   "metadata": {},
   "outputs": [
    {
     "data": {
      "text/html": [
       "<div>\n",
       "<style scoped>\n",
       "    .dataframe tbody tr th:only-of-type {\n",
       "        vertical-align: middle;\n",
       "    }\n",
       "\n",
       "    .dataframe tbody tr th {\n",
       "        vertical-align: top;\n",
       "    }\n",
       "\n",
       "    .dataframe thead th {\n",
       "        text-align: right;\n",
       "    }\n",
       "</style>\n",
       "<table border=\"1\" class=\"dataframe\">\n",
       "  <thead>\n",
       "    <tr style=\"text-align: right;\">\n",
       "      <th></th>\n",
       "      <th>fornecedor_punido</th>\n",
       "      <th>qtd_media</th>\n",
       "      <th>Socio Laranja</th>\n",
       "      <th>Valor Total Homologado em 2017</th>\n",
       "      <th>Micro Empresa</th>\n",
       "      <th>Não Informado</th>\n",
       "      <th>Pequena Empresa</th>\n",
       "      <th>qtd_subclasses_cnae</th>\n",
       "      <th>Qtd dias inferior a 30</th>\n",
       "      <th>qtd_fornecedores</th>\n",
       "      <th>socio_com_ceis</th>\n",
       "      <th>VALIDO</th>\n",
       "      <th>prob_loja</th>\n",
       "    </tr>\n",
       "  </thead>\n",
       "  <tbody>\n",
       "    <tr>\n",
       "      <th>0</th>\n",
       "      <td>False</td>\n",
       "      <td>96.0</td>\n",
       "      <td>0.0</td>\n",
       "      <td>100000.0</td>\n",
       "      <td>0</td>\n",
       "      <td>0</td>\n",
       "      <td>0</td>\n",
       "      <td>5.0</td>\n",
       "      <td>0.0</td>\n",
       "      <td>1.0</td>\n",
       "      <td>0.0</td>\n",
       "      <td>2.0</td>\n",
       "      <td>0.999985</td>\n",
       "    </tr>\n",
       "    <tr>\n",
       "      <th>1</th>\n",
       "      <td>False</td>\n",
       "      <td>34.0</td>\n",
       "      <td>0.0</td>\n",
       "      <td>100000.0</td>\n",
       "      <td>0</td>\n",
       "      <td>0</td>\n",
       "      <td>0</td>\n",
       "      <td>5.0</td>\n",
       "      <td>0.0</td>\n",
       "      <td>1.0</td>\n",
       "      <td>0.0</td>\n",
       "      <td>7.0</td>\n",
       "      <td>0.999988</td>\n",
       "    </tr>\n",
       "    <tr>\n",
       "      <th>2</th>\n",
       "      <td>False</td>\n",
       "      <td>28.0</td>\n",
       "      <td>0.0</td>\n",
       "      <td>100000.0</td>\n",
       "      <td>0</td>\n",
       "      <td>0</td>\n",
       "      <td>0</td>\n",
       "      <td>5.0</td>\n",
       "      <td>0.0</td>\n",
       "      <td>1.0</td>\n",
       "      <td>0.0</td>\n",
       "      <td>1.0</td>\n",
       "      <td>0.998830</td>\n",
       "    </tr>\n",
       "    <tr>\n",
       "      <th>3</th>\n",
       "      <td>False</td>\n",
       "      <td>23.0</td>\n",
       "      <td>0.0</td>\n",
       "      <td>100000.0</td>\n",
       "      <td>0</td>\n",
       "      <td>0</td>\n",
       "      <td>0</td>\n",
       "      <td>5.0</td>\n",
       "      <td>0.0</td>\n",
       "      <td>1.0</td>\n",
       "      <td>0.0</td>\n",
       "      <td>1.0</td>\n",
       "      <td>0.773772</td>\n",
       "    </tr>\n",
       "    <tr>\n",
       "      <th>4</th>\n",
       "      <td>False</td>\n",
       "      <td>25.0</td>\n",
       "      <td>0.0</td>\n",
       "      <td>76100.0</td>\n",
       "      <td>0</td>\n",
       "      <td>1</td>\n",
       "      <td>0</td>\n",
       "      <td>5.0</td>\n",
       "      <td>0.0</td>\n",
       "      <td>1.0</td>\n",
       "      <td>0.0</td>\n",
       "      <td>3.0</td>\n",
       "      <td>0.999959</td>\n",
       "    </tr>\n",
       "  </tbody>\n",
       "</table>\n",
       "</div>"
      ],
      "text/plain": [
       "   fornecedor_punido  qtd_media  Socio Laranja  \\\n",
       "0              False       96.0            0.0   \n",
       "1              False       34.0            0.0   \n",
       "2              False       28.0            0.0   \n",
       "3              False       23.0            0.0   \n",
       "4              False       25.0            0.0   \n",
       "\n",
       "   Valor Total Homologado em 2017  Micro Empresa  Não Informado  \\\n",
       "0                        100000.0              0              0   \n",
       "1                        100000.0              0              0   \n",
       "2                        100000.0              0              0   \n",
       "3                        100000.0              0              0   \n",
       "4                         76100.0              0              1   \n",
       "\n",
       "   Pequena Empresa  qtd_subclasses_cnae  Qtd dias inferior a 30  \\\n",
       "0                0                  5.0                     0.0   \n",
       "1                0                  5.0                     0.0   \n",
       "2                0                  5.0                     0.0   \n",
       "3                0                  5.0                     0.0   \n",
       "4                0                  5.0                     0.0   \n",
       "\n",
       "   qtd_fornecedores  socio_com_ceis  VALIDO  prob_loja  \n",
       "0               1.0             0.0     2.0   0.999985  \n",
       "1               1.0             0.0     7.0   0.999988  \n",
       "2               1.0             0.0     1.0   0.998830  \n",
       "3               1.0             0.0     1.0   0.773772  \n",
       "4               1.0             0.0     3.0   0.999959  "
      ]
     },
     "execution_count": 104,
     "metadata": {},
     "output_type": "execute_result"
    }
   ],
   "source": [
    "fornecedores_data.head()"
   ]
  },
  {
   "cell_type": "markdown",
   "metadata": {
    "collapsed": true
   },
   "source": [
    "Nossa variável alvo será \"fornecedor_punido\". Todas as outras serão variáveis dependentes."
   ]
  },
  {
   "cell_type": "code",
   "execution_count": 105,
   "metadata": {
    "collapsed": true
   },
   "outputs": [],
   "source": [
    "y = fornecedores_data['fornecedor_punido']"
   ]
  },
  {
   "cell_type": "code",
   "execution_count": 106,
   "metadata": {
    "collapsed": true
   },
   "outputs": [],
   "source": [
    "X = fornecedores_data.iloc[:,1:]"
   ]
  },
  {
   "cell_type": "code",
   "execution_count": 107,
   "metadata": {},
   "outputs": [
    {
     "data": {
      "text/html": [
       "<div>\n",
       "<style scoped>\n",
       "    .dataframe tbody tr th:only-of-type {\n",
       "        vertical-align: middle;\n",
       "    }\n",
       "\n",
       "    .dataframe tbody tr th {\n",
       "        vertical-align: top;\n",
       "    }\n",
       "\n",
       "    .dataframe thead th {\n",
       "        text-align: right;\n",
       "    }\n",
       "</style>\n",
       "<table border=\"1\" class=\"dataframe\">\n",
       "  <thead>\n",
       "    <tr style=\"text-align: right;\">\n",
       "      <th></th>\n",
       "      <th>qtd_media</th>\n",
       "      <th>Socio Laranja</th>\n",
       "      <th>Valor Total Homologado em 2017</th>\n",
       "      <th>Micro Empresa</th>\n",
       "      <th>Não Informado</th>\n",
       "      <th>Pequena Empresa</th>\n",
       "      <th>qtd_subclasses_cnae</th>\n",
       "      <th>Qtd dias inferior a 30</th>\n",
       "      <th>qtd_fornecedores</th>\n",
       "      <th>socio_com_ceis</th>\n",
       "      <th>VALIDO</th>\n",
       "      <th>prob_loja</th>\n",
       "    </tr>\n",
       "  </thead>\n",
       "  <tbody>\n",
       "    <tr>\n",
       "      <th>0</th>\n",
       "      <td>96.0</td>\n",
       "      <td>0.0</td>\n",
       "      <td>100000.0</td>\n",
       "      <td>0</td>\n",
       "      <td>0</td>\n",
       "      <td>0</td>\n",
       "      <td>5.0</td>\n",
       "      <td>0.0</td>\n",
       "      <td>1.0</td>\n",
       "      <td>0.0</td>\n",
       "      <td>2.0</td>\n",
       "      <td>0.999985</td>\n",
       "    </tr>\n",
       "    <tr>\n",
       "      <th>1</th>\n",
       "      <td>34.0</td>\n",
       "      <td>0.0</td>\n",
       "      <td>100000.0</td>\n",
       "      <td>0</td>\n",
       "      <td>0</td>\n",
       "      <td>0</td>\n",
       "      <td>5.0</td>\n",
       "      <td>0.0</td>\n",
       "      <td>1.0</td>\n",
       "      <td>0.0</td>\n",
       "      <td>7.0</td>\n",
       "      <td>0.999988</td>\n",
       "    </tr>\n",
       "    <tr>\n",
       "      <th>2</th>\n",
       "      <td>28.0</td>\n",
       "      <td>0.0</td>\n",
       "      <td>100000.0</td>\n",
       "      <td>0</td>\n",
       "      <td>0</td>\n",
       "      <td>0</td>\n",
       "      <td>5.0</td>\n",
       "      <td>0.0</td>\n",
       "      <td>1.0</td>\n",
       "      <td>0.0</td>\n",
       "      <td>1.0</td>\n",
       "      <td>0.998830</td>\n",
       "    </tr>\n",
       "    <tr>\n",
       "      <th>3</th>\n",
       "      <td>23.0</td>\n",
       "      <td>0.0</td>\n",
       "      <td>100000.0</td>\n",
       "      <td>0</td>\n",
       "      <td>0</td>\n",
       "      <td>0</td>\n",
       "      <td>5.0</td>\n",
       "      <td>0.0</td>\n",
       "      <td>1.0</td>\n",
       "      <td>0.0</td>\n",
       "      <td>1.0</td>\n",
       "      <td>0.773772</td>\n",
       "    </tr>\n",
       "    <tr>\n",
       "      <th>4</th>\n",
       "      <td>25.0</td>\n",
       "      <td>0.0</td>\n",
       "      <td>76100.0</td>\n",
       "      <td>0</td>\n",
       "      <td>1</td>\n",
       "      <td>0</td>\n",
       "      <td>5.0</td>\n",
       "      <td>0.0</td>\n",
       "      <td>1.0</td>\n",
       "      <td>0.0</td>\n",
       "      <td>3.0</td>\n",
       "      <td>0.999959</td>\n",
       "    </tr>\n",
       "  </tbody>\n",
       "</table>\n",
       "</div>"
      ],
      "text/plain": [
       "   qtd_media  Socio Laranja  Valor Total Homologado em 2017  Micro Empresa  \\\n",
       "0       96.0            0.0                        100000.0              0   \n",
       "1       34.0            0.0                        100000.0              0   \n",
       "2       28.0            0.0                        100000.0              0   \n",
       "3       23.0            0.0                        100000.0              0   \n",
       "4       25.0            0.0                         76100.0              0   \n",
       "\n",
       "   Não Informado  Pequena Empresa  qtd_subclasses_cnae  \\\n",
       "0              0                0                  5.0   \n",
       "1              0                0                  5.0   \n",
       "2              0                0                  5.0   \n",
       "3              0                0                  5.0   \n",
       "4              1                0                  5.0   \n",
       "\n",
       "   Qtd dias inferior a 30  qtd_fornecedores  socio_com_ceis  VALIDO  prob_loja  \n",
       "0                     0.0               1.0             0.0     2.0   0.999985  \n",
       "1                     0.0               1.0             0.0     7.0   0.999988  \n",
       "2                     0.0               1.0             0.0     1.0   0.998830  \n",
       "3                     0.0               1.0             0.0     1.0   0.773772  \n",
       "4                     0.0               1.0             0.0     3.0   0.999959  "
      ]
     },
     "execution_count": 107,
     "metadata": {},
     "output_type": "execute_result"
    }
   ],
   "source": [
    "X.head()"
   ]
  },
  {
   "cell_type": "code",
   "execution_count": 108,
   "metadata": {},
   "outputs": [
    {
     "data": {
      "text/html": [
       "<div>\n",
       "<style scoped>\n",
       "    .dataframe tbody tr th:only-of-type {\n",
       "        vertical-align: middle;\n",
       "    }\n",
       "\n",
       "    .dataframe tbody tr th {\n",
       "        vertical-align: top;\n",
       "    }\n",
       "\n",
       "    .dataframe thead th {\n",
       "        text-align: right;\n",
       "    }\n",
       "</style>\n",
       "<table border=\"1\" class=\"dataframe\">\n",
       "  <thead>\n",
       "    <tr style=\"text-align: right;\">\n",
       "      <th></th>\n",
       "      <th>qtd_media</th>\n",
       "      <th>Socio Laranja</th>\n",
       "      <th>Valor Total Homologado em 2017</th>\n",
       "      <th>Micro Empresa</th>\n",
       "      <th>Não Informado</th>\n",
       "      <th>Pequena Empresa</th>\n",
       "      <th>qtd_subclasses_cnae</th>\n",
       "      <th>Qtd dias inferior a 30</th>\n",
       "      <th>qtd_fornecedores</th>\n",
       "      <th>socio_com_ceis</th>\n",
       "      <th>VALIDO</th>\n",
       "      <th>prob_loja</th>\n",
       "    </tr>\n",
       "  </thead>\n",
       "  <tbody>\n",
       "    <tr>\n",
       "      <th>count</th>\n",
       "      <td>30188.000000</td>\n",
       "      <td>30188.000000</td>\n",
       "      <td>3.018800e+04</td>\n",
       "      <td>30188.000000</td>\n",
       "      <td>30188.000000</td>\n",
       "      <td>30188.000000</td>\n",
       "      <td>30188.000000</td>\n",
       "      <td>30188.00000</td>\n",
       "      <td>30188.000000</td>\n",
       "      <td>30188.000000</td>\n",
       "      <td>30188.000000</td>\n",
       "      <td>30188.000000</td>\n",
       "    </tr>\n",
       "    <tr>\n",
       "      <th>mean</th>\n",
       "      <td>126.725603</td>\n",
       "      <td>3.665794</td>\n",
       "      <td>1.593014e+06</td>\n",
       "      <td>0.184312</td>\n",
       "      <td>0.033788</td>\n",
       "      <td>0.190175</td>\n",
       "      <td>8.283457</td>\n",
       "      <td>0.10365</td>\n",
       "      <td>1.072048</td>\n",
       "      <td>0.038724</td>\n",
       "      <td>27.233006</td>\n",
       "      <td>0.635508</td>\n",
       "    </tr>\n",
       "    <tr>\n",
       "      <th>std</th>\n",
       "      <td>615.113075</td>\n",
       "      <td>13.758193</td>\n",
       "      <td>1.684212e+07</td>\n",
       "      <td>0.387745</td>\n",
       "      <td>0.180687</td>\n",
       "      <td>0.392446</td>\n",
       "      <td>11.751422</td>\n",
       "      <td>2.83587</td>\n",
       "      <td>0.449316</td>\n",
       "      <td>0.378459</td>\n",
       "      <td>54.026703</td>\n",
       "      <td>0.431186</td>\n",
       "    </tr>\n",
       "    <tr>\n",
       "      <th>min</th>\n",
       "      <td>1.000000</td>\n",
       "      <td>0.000000</td>\n",
       "      <td>0.000000e+00</td>\n",
       "      <td>0.000000</td>\n",
       "      <td>0.000000</td>\n",
       "      <td>0.000000</td>\n",
       "      <td>1.000000</td>\n",
       "      <td>0.00000</td>\n",
       "      <td>0.000000</td>\n",
       "      <td>0.000000</td>\n",
       "      <td>0.000000</td>\n",
       "      <td>0.000006</td>\n",
       "    </tr>\n",
       "    <tr>\n",
       "      <th>25%</th>\n",
       "      <td>7.000000</td>\n",
       "      <td>0.000000</td>\n",
       "      <td>4.331675e+04</td>\n",
       "      <td>0.000000</td>\n",
       "      <td>0.000000</td>\n",
       "      <td>0.000000</td>\n",
       "      <td>3.000000</td>\n",
       "      <td>0.00000</td>\n",
       "      <td>1.000000</td>\n",
       "      <td>0.000000</td>\n",
       "      <td>2.000000</td>\n",
       "      <td>0.082129</td>\n",
       "    </tr>\n",
       "    <tr>\n",
       "      <th>50%</th>\n",
       "      <td>17.000000</td>\n",
       "      <td>0.000000</td>\n",
       "      <td>1.000000e+05</td>\n",
       "      <td>0.000000</td>\n",
       "      <td>0.000000</td>\n",
       "      <td>0.000000</td>\n",
       "      <td>5.000000</td>\n",
       "      <td>0.00000</td>\n",
       "      <td>1.000000</td>\n",
       "      <td>0.000000</td>\n",
       "      <td>7.000000</td>\n",
       "      <td>0.956349</td>\n",
       "    </tr>\n",
       "    <tr>\n",
       "      <th>75%</th>\n",
       "      <td>48.500000</td>\n",
       "      <td>1.000000</td>\n",
       "      <td>2.117928e+05</td>\n",
       "      <td>0.000000</td>\n",
       "      <td>0.000000</td>\n",
       "      <td>0.000000</td>\n",
       "      <td>9.000000</td>\n",
       "      <td>0.00000</td>\n",
       "      <td>1.000000</td>\n",
       "      <td>0.000000</td>\n",
       "      <td>29.000000</td>\n",
       "      <td>0.999959</td>\n",
       "    </tr>\n",
       "    <tr>\n",
       "      <th>max</th>\n",
       "      <td>29254.500000</td>\n",
       "      <td>733.000000</td>\n",
       "      <td>1.573393e+09</td>\n",
       "      <td>1.000000</td>\n",
       "      <td>1.000000</td>\n",
       "      <td>1.000000</td>\n",
       "      <td>99.000000</td>\n",
       "      <td>272.00000</td>\n",
       "      <td>25.000000</td>\n",
       "      <td>24.000000</td>\n",
       "      <td>875.000000</td>\n",
       "      <td>1.000000</td>\n",
       "    </tr>\n",
       "  </tbody>\n",
       "</table>\n",
       "</div>"
      ],
      "text/plain": [
       "          qtd_media  Socio Laranja  Valor Total Homologado em 2017  \\\n",
       "count  30188.000000   30188.000000                    3.018800e+04   \n",
       "mean     126.725603       3.665794                    1.593014e+06   \n",
       "std      615.113075      13.758193                    1.684212e+07   \n",
       "min        1.000000       0.000000                    0.000000e+00   \n",
       "25%        7.000000       0.000000                    4.331675e+04   \n",
       "50%       17.000000       0.000000                    1.000000e+05   \n",
       "75%       48.500000       1.000000                    2.117928e+05   \n",
       "max    29254.500000     733.000000                    1.573393e+09   \n",
       "\n",
       "       Micro Empresa  Não Informado  Pequena Empresa  qtd_subclasses_cnae  \\\n",
       "count   30188.000000   30188.000000     30188.000000         30188.000000   \n",
       "mean        0.184312       0.033788         0.190175             8.283457   \n",
       "std         0.387745       0.180687         0.392446            11.751422   \n",
       "min         0.000000       0.000000         0.000000             1.000000   \n",
       "25%         0.000000       0.000000         0.000000             3.000000   \n",
       "50%         0.000000       0.000000         0.000000             5.000000   \n",
       "75%         0.000000       0.000000         0.000000             9.000000   \n",
       "max         1.000000       1.000000         1.000000            99.000000   \n",
       "\n",
       "       Qtd dias inferior a 30  qtd_fornecedores  socio_com_ceis        VALIDO  \\\n",
       "count             30188.00000      30188.000000    30188.000000  30188.000000   \n",
       "mean                  0.10365          1.072048        0.038724     27.233006   \n",
       "std                   2.83587          0.449316        0.378459     54.026703   \n",
       "min                   0.00000          0.000000        0.000000      0.000000   \n",
       "25%                   0.00000          1.000000        0.000000      2.000000   \n",
       "50%                   0.00000          1.000000        0.000000      7.000000   \n",
       "75%                   0.00000          1.000000        0.000000     29.000000   \n",
       "max                 272.00000         25.000000       24.000000    875.000000   \n",
       "\n",
       "          prob_loja  \n",
       "count  30188.000000  \n",
       "mean       0.635508  \n",
       "std        0.431186  \n",
       "min        0.000006  \n",
       "25%        0.082129  \n",
       "50%        0.956349  \n",
       "75%        0.999959  \n",
       "max        1.000000  "
      ]
     },
     "execution_count": 108,
     "metadata": {},
     "output_type": "execute_result"
    }
   ],
   "source": [
    "X.describe()"
   ]
  },
  {
   "cell_type": "markdown",
   "metadata": {},
   "source": [
    "Separação entre conjuntos de treino e teste"
   ]
  },
  {
   "cell_type": "code",
   "execution_count": 109,
   "metadata": {
    "collapsed": true
   },
   "outputs": [],
   "source": [
    "from sklearn.model_selection import train_test_split\n",
    "\n",
    "X_train, X_test, y_train, y_test = train_test_split(X, y, test_size=0.33, random_state=42)"
   ]
  },
  {
   "cell_type": "markdown",
   "metadata": {},
   "source": [
    "**Definição** e **Ajuste (Fit)** do modelo"
   ]
  },
  {
   "cell_type": "code",
   "execution_count": 110,
   "metadata": {},
   "outputs": [
    {
     "data": {
      "text/plain": [
       "LogisticRegression(C=1000000000.0, class_weight=None, dual=False,\n",
       "          fit_intercept=True, intercept_scaling=1, max_iter=100,\n",
       "          multi_class='ovr', n_jobs=1, penalty='l2', random_state=None,\n",
       "          solver='liblinear', tol=0.0001, verbose=0, warm_start=False)"
      ]
     },
     "execution_count": 110,
     "metadata": {},
     "output_type": "execute_result"
    }
   ],
   "source": [
    "from sklearn.linear_model import LogisticRegression\n",
    "\n",
    "# Definir o modelo (Regressão Linear)\n",
    "fornecedores_model = LogisticRegression()\n",
    "\n",
    "# Ajustar o modelo (treinamento)\n",
    "fornecedores_model.fit(X_train, y_train)"
   ]
  },
  {
   "cell_type": "markdown",
   "metadata": {},
   "source": [
    "Ver coeficientes do modelo"
   ]
  },
  {
   "cell_type": "code",
   "execution_count": 111,
   "metadata": {},
   "outputs": [
    {
     "data": {
      "text/plain": [
       "[('qtd_media', -9.84897263559559e-10),\n",
       " ('Socio Laranja', -2.7814392658775364e-10),\n",
       " ('Valor Total Homologado em 2017', 2.2849786930435088e-09),\n",
       " ('Micro Empresa', -1.179901827359547e-11),\n",
       " ('Não Informado', -9.00094665272414e-12),\n",
       " ('Pequena Empresa', -7.81746733544535e-12),\n",
       " ('qtd_subclasses_cnae', -4.4984536694039385e-10),\n",
       " ('Qtd dias inferior a 30', 1.6071197922149964e-11),\n",
       " ('qtd_fornecedores', -1.2034321140566227e-10),\n",
       " ('socio_com_ceis', 2.3657690480417927e-12),\n",
       " ('VALIDO', 1.5344257641042785e-09),\n",
       " ('prob_loja', -7.701872625897372e-11)]"
      ]
     },
     "execution_count": 111,
     "metadata": {},
     "output_type": "execute_result"
    }
   ],
   "source": [
    "[(X_train.columns[i], fornecedores_model.coef_[0][i]) for i in range(len(X_train.columns))]"
   ]
  },
  {
   "cell_type": "markdown",
   "metadata": {},
   "source": [
    "Os coeficientes estão todos pequenos, muitos deles negativos. Estranho... era para serem indicadores de risco e em geral aumentarem o risco do fornecedor!"
   ]
  },
  {
   "cell_type": "markdown",
   "metadata": {},
   "source": [
    "**Predição** para os primeiros cinco fornecedores"
   ]
  },
  {
   "cell_type": "code",
   "execution_count": 112,
   "metadata": {},
   "outputs": [
    {
     "name": "stdout",
     "output_type": "stream",
     "text": [
      "Prevendo se houve punição para os cinco primeiros fornecedores:\n",
      "       qtd_media  Socio Laranja  Valor Total Homologado em 2017  \\\n",
      "17411       20.0            1.0                         55565.0   \n",
      "4513         5.0            6.0                        100000.0   \n",
      "12854        4.5            0.0                        137984.9   \n",
      "20464       11.0            0.0                           150.0   \n",
      "9289         2.5            0.0                       1164820.0   \n",
      "\n",
      "       Micro Empresa  Não Informado  Pequena Empresa  qtd_subclasses_cnae  \\\n",
      "17411              0              0                1                  3.0   \n",
      "4513               0              0                0                  5.0   \n",
      "12854              1              0                0                  1.0   \n",
      "20464              1              0                0                  8.0   \n",
      "9289               0              0                1                 48.0   \n",
      "\n",
      "       Qtd dias inferior a 30  qtd_fornecedores  socio_com_ceis  VALIDO  \\\n",
      "17411                     0.0               1.0             0.0     2.0   \n",
      "4513                      0.0               1.0             0.0     2.0   \n",
      "12854                     0.0               1.0             0.0    55.0   \n",
      "20464                     0.0               1.0             0.0    15.0   \n",
      "9289                      0.0               1.0             0.0    27.0   \n",
      "\n",
      "       prob_loja  \n",
      "17411   1.000000  \n",
      "4513    0.008613  \n",
      "12854   0.999988  \n",
      "20464   1.000000  \n",
      "9289    0.033030  \n",
      "Os valores previstos são:\n",
      "[ True  True  True  True  True]\n"
     ]
    }
   ],
   "source": [
    "print(\"Prevendo se houve punição para os cinco primeiros fornecedores:\")\n",
    "print(X_test.head())\n",
    "print(\"Os valores previstos são:\")\n",
    "print(fornecedores_model.predict(X_test.head()))"
   ]
  },
  {
   "cell_type": "markdown",
   "metadata": {},
   "source": [
    "Os cinco são fornecedores punidos. Não era pra ser tão comum..."
   ]
  },
  {
   "cell_type": "markdown",
   "metadata": {},
   "source": [
    "**Avaliação** do modelo no conjunto de teste"
   ]
  },
  {
   "cell_type": "code",
   "execution_count": 113,
   "metadata": {},
   "outputs": [
    {
     "name": "stdout",
     "output_type": "stream",
     "text": [
      "A acurácia desse modelo é de:\n",
      "0.3010137508782495\n"
     ]
    }
   ],
   "source": [
    "print(\"A acurácia desse modelo é de:\")\n",
    "print(fornecedores_model.score(X_test, y_test))"
   ]
  },
  {
   "cell_type": "markdown",
   "metadata": {},
   "source": [
    "Isso é muito ruim! Vamos verificar outras métricas..."
   ]
  },
  {
   "cell_type": "code",
   "execution_count": 102,
   "metadata": {},
   "outputs": [
    {
     "name": "stdout",
     "output_type": "stream",
     "text": [
      "A matriz de confusão é:\n",
      " [[ 324 6709]\n",
      " [ 255 2675]] \n",
      "\n",
      "Métricas de precisão, abragência e f1:\n",
      "              precision    recall  f1-score   support\n",
      "\n",
      "      False       0.56      0.05      0.09      7033\n",
      "       True       0.29      0.91      0.43      2930\n",
      "\n",
      "avg / total       0.48      0.30      0.19      9963\n",
      "\n"
     ]
    }
   ],
   "source": [
    "from sklearn.metrics import classification_report, confusion_matrix\n",
    "\n",
    "# Resultado no conjunto de testes\n",
    "y_pred = fornecedores_model.predict(X_test)\n",
    "\n",
    "print(\"A matriz de confusão é:\\n\", confusion_matrix(y_test, y_pred),\"\\n\")\n",
    "print(\"Métricas de precisão, abragência e f1:\\n\", classification_report(y_test, y_pred))"
   ]
  },
  {
   "cell_type": "markdown",
   "metadata": {},
   "source": [
    "O desempenho do modelo está muito ruim... Você pode ajudar a corrigi-lo e melhorá-lo nos exercícios!"
   ]
  }
 ],
 "metadata": {
  "kernelspec": {
   "display_name": "Python 3",
   "language": "python",
   "name": "python3"
  },
  "language_info": {
   "codemirror_mode": {
    "name": "ipython",
    "version": 3
   },
   "file_extension": ".py",
   "mimetype": "text/x-python",
   "name": "python",
   "nbconvert_exporter": "python",
   "pygments_lexer": "ipython3",
   "version": "3.6.3"
  }
 },
 "nbformat": 4,
 "nbformat_minor": 2
}

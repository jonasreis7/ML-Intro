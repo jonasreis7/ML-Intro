{
 "cells": [
  {
   "cell_type": "markdown",
   "metadata": {
    "_cell_guid": "dc1e7b02-f022-48ca-a270-21f4b0c70835",
    "_uuid": "0696f41450f17b2e0ebbbbb30a29053cde7de211"
   },
   "source": [
    "**[Kaggle Machine Learning Course Home Page](kaggle.com/learn/machine-learning).**\n",
    "\n",
    "---\n",
    "\n",
    "# Selecionando dados para Modelagem\n",
    "Se o conjunto de dados possui muitas variáveis, usar todas elas pode criar um modelo mais complexo que o necessário e gerar um Sobreajuste (overfitting)! Porém se selecionarmos muito poucas, o modelo pode ficar pobre em predição e sofre de um Subajuste (underfitting).\n",
    "\n",
    "Vamos tentar selecionar apenas algumas variáveis, com base na intuição. Técnicas estatísticas de seleção de variáveis são preferíveis, como veremos mais pra frente\n",
    "\n",
    "Primeiros vamos carregar o dataset e ver quantas colunas temos com o código a seguir.\n"
   ]
  },
  {
   "cell_type": "code",
   "execution_count": 1,
   "metadata": {
    "collapsed": false
   },
   "outputs": [
    {
     "data": {
      "text/plain": [
       "Index(['Suburb', 'Address', 'Rooms', 'Type', 'Price', 'Method', 'SellerG',\n",
       "       'Date', 'Distance', 'Postcode', 'Bedroom2', 'Bathroom', 'Car',\n",
       "       'Landsize', 'BuildingArea', 'YearBuilt', 'CouncilArea', 'Lattitude',\n",
       "       'Longtitude', 'Regionname', 'Propertycount'],\n",
       "      dtype='object')"
      ]
     },
     "execution_count": 1,
     "metadata": {},
     "output_type": "execute_result"
    }
   ],
   "source": [
    "import pandas as pd\n",
    "\n",
    "melbourne_file_path = 'melb_data.csv'\n",
    "melbourne_data = pd.read_csv(melbourne_file_path) \n",
    "melbourne_data.columns"
   ]
  },
  {
   "cell_type": "markdown",
   "metadata": {},
   "source": [
    "Como é bastante comum, este dataset possui alguns valores vazios (marcados pelo Pandas como NaN - vamos descartar esses dados por enquanto!)"
   ]
  },
  {
   "cell_type": "code",
   "execution_count": 2,
   "metadata": {
    "collapsed": true
   },
   "outputs": [],
   "source": [
    "# dropna: descarta valores não preenchidos\n",
    "melbourne_data = melbourne_data.dropna()"
   ]
  },
  {
   "cell_type": "markdown",
   "metadata": {},
   "source": [
    "Como viram na parte de Pandas, podemos selecionar colunas de um DataFrame de duas formas:\n",
    "\n",
    "1. Notação de ponto (DataFrame.Coluna);\n",
    "2. Notação de lista de colunas (DataFrame['Coluna']).\n",
    "\n",
    "## Selecionando a variável alvo\n",
    "\n",
    "Ambas as notações retornam o tipo de dados **Series**, que pode ser entendido como um DataFrame de uma única coluna.\n",
    "\n",
    "A seguir, usamos a notação de ponto para selecionar a variável que queremos prever, chamada de ***variável dependente ou variável alvo***. Por convenção, normalmente chamamos a essa variável de **y** (vamos respeitar as tradições!). Então o código para colocarmos a variável Preço (Price) como variável dependente ou alvo é:"
   ]
  },
  {
   "cell_type": "code",
   "execution_count": 3,
   "metadata": {
    "_cell_guid": "e5a6c21c-cda7-4df8-a9e9-15a2ae865026",
    "_uuid": "599dc0855ff966c6e8d84b5bd447b315bf85e339",
    "collapsed": true
   },
   "outputs": [],
   "source": [
    "y = melbourne_data.Price"
   ]
  },
  {
   "cell_type": "markdown",
   "metadata": {
    "_cell_guid": "a52b0b8d-ea0a-435b-bde1-1472f63977ba",
    "_uuid": "a0fac0889241e77f2e2deefbd63bc9f057d0c826"
   },
   "source": [
    "# Escolhendo \"Features\"\n",
    "As colunas que escolheremos para fazer parte do nosso modelo são as chamadas \"atributos\" ou \"features\". Como dissemos, para evitar um Sobreajuste do modelo, nem sempre é razoável utilizar todas as colunas de seu dataset como atributos. \n",
    "\n",
    "Existem técnicas estatísticas que permitem selecionar os melhores atributos para uma variável alvo, mas por ora vamos escolher algumas variáveis na mão mesmo, construindo uma lista como a do exemplo a seguir:"
   ]
  },
  {
   "cell_type": "code",
   "execution_count": 4,
   "metadata": {
    "_cell_guid": "b45e6964-5379-44b5-980c-11e556f34a4f",
    "_uuid": "001553f51fbd9c115b7728e625fd6c2830852071",
    "collapsed": true
   },
   "outputs": [],
   "source": [
    "melbourne_features = ['Rooms', 'Bathroom', 'Landsize', 'Lattitude', 'Longtitude']"
   ]
  },
  {
   "cell_type": "markdown",
   "metadata": {
    "_cell_guid": "e30af6f8-45b8-4e33-9c3b-52a88266aee6",
    "_uuid": "f9d9562f7d3a41042c3bb3beb64056993703735d"
   },
   "source": [
    "Também por convenção, chamamos o conjunto de features de **X**"
   ]
  },
  {
   "cell_type": "code",
   "execution_count": 5,
   "metadata": {
    "_cell_guid": "f3ce77d5-06e2-4433-b392-16d54014d2c8",
    "_uuid": "19b3d59d66644a58125cb8d41636a169d4c10af9",
    "collapsed": true
   },
   "outputs": [],
   "source": [
    "X = melbourne_data[melbourne_features]"
   ]
  },
  {
   "cell_type": "markdown",
   "metadata": {},
   "source": [
    "Antes de construir um modelo, é sempre bom revisar os dados, pois podemos achar problemas que não foram previstos na carga! Podemos obter uma descrição resumida dos dados com `describe` e ver as primeiras linhas do DataFrame com `head`."
   ]
  },
  {
   "cell_type": "code",
   "execution_count": 6,
   "metadata": {
    "collapsed": false
   },
   "outputs": [
    {
     "data": {
      "text/html": [
       "<div>\n",
       "<table border=\"1\" class=\"dataframe\">\n",
       "  <thead>\n",
       "    <tr style=\"text-align: right;\">\n",
       "      <th></th>\n",
       "      <th>Rooms</th>\n",
       "      <th>Bathroom</th>\n",
       "      <th>Landsize</th>\n",
       "      <th>Lattitude</th>\n",
       "      <th>Longtitude</th>\n",
       "    </tr>\n",
       "  </thead>\n",
       "  <tbody>\n",
       "    <tr>\n",
       "      <th>count</th>\n",
       "      <td>6196.000000</td>\n",
       "      <td>6196.000000</td>\n",
       "      <td>6196.000000</td>\n",
       "      <td>6196.000000</td>\n",
       "      <td>6196.000000</td>\n",
       "    </tr>\n",
       "    <tr>\n",
       "      <th>mean</th>\n",
       "      <td>2.931407</td>\n",
       "      <td>1.576340</td>\n",
       "      <td>471.006940</td>\n",
       "      <td>-37.807904</td>\n",
       "      <td>144.990201</td>\n",
       "    </tr>\n",
       "    <tr>\n",
       "      <th>std</th>\n",
       "      <td>0.971079</td>\n",
       "      <td>0.711362</td>\n",
       "      <td>897.449881</td>\n",
       "      <td>0.075850</td>\n",
       "      <td>0.099165</td>\n",
       "    </tr>\n",
       "    <tr>\n",
       "      <th>min</th>\n",
       "      <td>1.000000</td>\n",
       "      <td>1.000000</td>\n",
       "      <td>0.000000</td>\n",
       "      <td>-38.164920</td>\n",
       "      <td>144.542370</td>\n",
       "    </tr>\n",
       "    <tr>\n",
       "      <th>25%</th>\n",
       "      <td>2.000000</td>\n",
       "      <td>1.000000</td>\n",
       "      <td>152.000000</td>\n",
       "      <td>-37.855438</td>\n",
       "      <td>144.926198</td>\n",
       "    </tr>\n",
       "    <tr>\n",
       "      <th>50%</th>\n",
       "      <td>3.000000</td>\n",
       "      <td>1.000000</td>\n",
       "      <td>373.000000</td>\n",
       "      <td>-37.802250</td>\n",
       "      <td>144.995800</td>\n",
       "    </tr>\n",
       "    <tr>\n",
       "      <th>75%</th>\n",
       "      <td>4.000000</td>\n",
       "      <td>2.000000</td>\n",
       "      <td>628.000000</td>\n",
       "      <td>-37.758200</td>\n",
       "      <td>145.052700</td>\n",
       "    </tr>\n",
       "    <tr>\n",
       "      <th>max</th>\n",
       "      <td>8.000000</td>\n",
       "      <td>8.000000</td>\n",
       "      <td>37000.000000</td>\n",
       "      <td>-37.457090</td>\n",
       "      <td>145.526350</td>\n",
       "    </tr>\n",
       "  </tbody>\n",
       "</table>\n",
       "</div>"
      ],
      "text/plain": [
       "             Rooms     Bathroom      Landsize    Lattitude   Longtitude\n",
       "count  6196.000000  6196.000000   6196.000000  6196.000000  6196.000000\n",
       "mean      2.931407     1.576340    471.006940   -37.807904   144.990201\n",
       "std       0.971079     0.711362    897.449881     0.075850     0.099165\n",
       "min       1.000000     1.000000      0.000000   -38.164920   144.542370\n",
       "25%       2.000000     1.000000    152.000000   -37.855438   144.926198\n",
       "50%       3.000000     1.000000    373.000000   -37.802250   144.995800\n",
       "75%       4.000000     2.000000    628.000000   -37.758200   145.052700\n",
       "max       8.000000     8.000000  37000.000000   -37.457090   145.526350"
      ]
     },
     "execution_count": 6,
     "metadata": {},
     "output_type": "execute_result"
    }
   ],
   "source": [
    "X.describe()"
   ]
  },
  {
   "cell_type": "code",
   "execution_count": 7,
   "metadata": {
    "collapsed": false
   },
   "outputs": [
    {
     "data": {
      "text/html": [
       "<div>\n",
       "<table border=\"1\" class=\"dataframe\">\n",
       "  <thead>\n",
       "    <tr style=\"text-align: right;\">\n",
       "      <th></th>\n",
       "      <th>Rooms</th>\n",
       "      <th>Bathroom</th>\n",
       "      <th>Landsize</th>\n",
       "      <th>Lattitude</th>\n",
       "      <th>Longtitude</th>\n",
       "    </tr>\n",
       "  </thead>\n",
       "  <tbody>\n",
       "    <tr>\n",
       "      <th>1</th>\n",
       "      <td>2</td>\n",
       "      <td>1.0</td>\n",
       "      <td>156.0</td>\n",
       "      <td>-37.8079</td>\n",
       "      <td>144.9934</td>\n",
       "    </tr>\n",
       "    <tr>\n",
       "      <th>2</th>\n",
       "      <td>3</td>\n",
       "      <td>2.0</td>\n",
       "      <td>134.0</td>\n",
       "      <td>-37.8093</td>\n",
       "      <td>144.9944</td>\n",
       "    </tr>\n",
       "    <tr>\n",
       "      <th>4</th>\n",
       "      <td>4</td>\n",
       "      <td>1.0</td>\n",
       "      <td>120.0</td>\n",
       "      <td>-37.8072</td>\n",
       "      <td>144.9941</td>\n",
       "    </tr>\n",
       "    <tr>\n",
       "      <th>6</th>\n",
       "      <td>3</td>\n",
       "      <td>2.0</td>\n",
       "      <td>245.0</td>\n",
       "      <td>-37.8024</td>\n",
       "      <td>144.9993</td>\n",
       "    </tr>\n",
       "    <tr>\n",
       "      <th>7</th>\n",
       "      <td>2</td>\n",
       "      <td>1.0</td>\n",
       "      <td>256.0</td>\n",
       "      <td>-37.8060</td>\n",
       "      <td>144.9954</td>\n",
       "    </tr>\n",
       "  </tbody>\n",
       "</table>\n",
       "</div>"
      ],
      "text/plain": [
       "   Rooms  Bathroom  Landsize  Lattitude  Longtitude\n",
       "1      2       1.0     156.0   -37.8079    144.9934\n",
       "2      3       2.0     134.0   -37.8093    144.9944\n",
       "4      4       1.0     120.0   -37.8072    144.9941\n",
       "6      3       2.0     245.0   -37.8024    144.9993\n",
       "7      2       1.0     256.0   -37.8060    144.9954"
      ]
     },
     "execution_count": 7,
     "metadata": {},
     "output_type": "execute_result"
    }
   ],
   "source": [
    "X.head()"
   ]
  },
  {
   "cell_type": "markdown",
   "metadata": {},
   "source": [
    "## Conjunto de treino e conjunto de testes\n",
    "Ainda antes de construir o modelo, precisamos dividir nosso conjunto de dados entre os dados que serão utilizados para o modelo aprender padrões e os dados que utilizaremos para avaliar os resultados. \n",
    "\n",
    "Isso deve ser feito porque se testarmos o modelo com os mesmos dados que utilizamos para fazê-lo aprender, estaremos subestimando o desempenho dele. Os dados de teste devem ser idealmente próximos a dados reais externos que o modelo não conhece, só assim saberemos se ele realmente é útil na prática, livre de possíveis sobreajustes que possam ocorrer no conjunto de treinamento.\n",
    "\n",
    "Normalmente, também por convenção (sempre ela!), o conjunto de treinamento corresponde a 2/3 do conjunto original, enquanto o de teste corresponde a 1/3 do total. Essa proporção pode variar, mas em geral é bom dedicarmos a maior parte de nosso conjunto de dados para treinamento.\n",
    "\n",
    "Esta divisão pode ser feita com o auxílio da função `train_test_split` da biblioteca scikit-learn, que vermos com mais detalhes a seguir. Na aplicação desta função abaixo, vemos que definimos o conjunto de testes como 1/3 do total (`test_size=0.33`). \n",
    "\n",
    "O uso do parâmetro `random_state=42` é para que possamos fazer sempre a mesma divisão toda vez que rodarmos esse código, evitando divisões randômicas a cada rodada. Isso é importante para manter este código reproduzível por todos, sem resultados diferentes para cada pessoa que tente executá-lo."
   ]
  },
  {
   "cell_type": "code",
   "execution_count": 8,
   "metadata": {
    "collapsed": true
   },
   "outputs": [],
   "source": [
    "from sklearn.model_selection import train_test_split\n",
    "\n",
    "X_train, X_test, y_train, y_test = train_test_split(X, y, test_size=0.33, random_state=42)"
   ]
  },
  {
   "cell_type": "markdown",
   "metadata": {
    "_cell_guid": "acd7ddac-58c4-403c-b39f-d648a6bd271c",
    "_uuid": "8a4f43b00b0243645d5d12ef0ae402c8106bf10f"
   },
   "source": [
    "---\n",
    "# Construindo seu modelo\n",
    "\n",
    "Vamos usar a super biblioteca **scikit-learn** para criar nossos modelos. No código, chamamos essa bibliteca de **sklearn**, como vai ver na amostra de código a seguir. Scikit-learn é de longe a biblioteca mais popular para criar modelos em Python a partir de dados armazenados em DataFrames.\n",
    "\n",
    "**Lembre-se** sempre dos 4 passos a seguir, pois são usados para criar qualquer tipo de modelo no Scikit-learn:\n",
    "\n",
    "* **Definição:** Qual o tipo de modelo você vai usar? Uma regressão linear? Uma árvore de decisão? Outro tipo de modelo mais complexo? Dependendo do modelo alguns parâmetros adicionais podem ser necessários.\n",
    "* **Ajuste (Fit):** Captura os padrões nos dados. É a etapa de treinamento, o centro de qualquer modelo. Lembre de utilizar aqui apenas seus **dados de treinamento**.\n",
    "* **Previsão (Predict):** Prevê o resultado da variável alvo com base no que foi ajustado (treinado) na etapa anterior\n",
    "* **Avaliação**: Determina a acurácia do modelo. Lembre-se de utilizar aqui apenas os **dados de teste**.\n",
    "\n",
    "Segue exemplo de definição de uma regressão linear no scikit-learn e ajuste utilizando os features e a variável alvo definida (os dois primeiros passos descritos acima)."
   ]
  },
  {
   "cell_type": "code",
   "execution_count": 9,
   "metadata": {
    "_cell_guid": "8a390b1d-ae2a-4b73-b524-0dfde22879f7",
    "_uuid": "4d35fb0ec4c75f00d91f1d7d668af4afdd6d19fe",
    "collapsed": false
   },
   "outputs": [
    {
     "data": {
      "text/plain": [
       "LinearRegression(copy_X=True, fit_intercept=True, n_jobs=1, normalize=False)"
      ]
     },
     "execution_count": 9,
     "metadata": {},
     "output_type": "execute_result"
    }
   ],
   "source": [
    "from sklearn.linear_model import LinearRegression\n",
    "\n",
    "# Definir o modelo (Regressão Linear)\n",
    "melbourne_model = LinearRegression()\n",
    "\n",
    "# Ajustar o modelo (treinamento)\n",
    "melbourne_model.fit(X_train, y_train)"
   ]
  },
  {
   "cell_type": "markdown",
   "metadata": {},
   "source": [
    "Acabamos de ajustar uma reta nos dados de treinamento, vamos ver os coeficientes desse modelo."
   ]
  },
  {
   "cell_type": "code",
   "execution_count": 20,
   "metadata": {
    "collapsed": false
   },
   "outputs": [
    {
     "data": {
      "text/plain": [
       "[('Rooms', 263580.59846338053),\n",
       " ('Bathroom', 239093.58097595171),\n",
       " ('Landsize', 15.518265321077649),\n",
       " ('Lattitude', -1621514.973100259),\n",
       " ('Longtitude', 638031.4890833759)]"
      ]
     },
     "execution_count": 20,
     "metadata": {},
     "output_type": "execute_result"
    }
   ],
   "source": [
    "[(X_train.columns[i], melbourne_model.coef_[i]) for i in range(len(X_train.columns))]"
   ]
  },
  {
   "cell_type": "markdown",
   "metadata": {},
   "source": [
    "Com isso podemos ver que número de quartos (Rooms), Banheiros (Bathroom), Tamanho do terreno (Landsize) e e Longitude aumentam o preço do imóvel. Já latitude diminui o preço do imóvel (provavelmente devido à localização do bairro onde o imóvel está localizado). No entanto, não podemos ver exatamente qual dessas variáveis mais influencia no preço porque os dados estão desnormalizados (deixaremos a normalização como exercício). "
   ]
  },
  {
   "cell_type": "markdown",
   "metadata": {
    "_cell_guid": "60aade6d-4f6c-482e-9e93-bffa1bc51e7b",
    "_uuid": "1ff19fb070af2b731ce8343dbfea16708ce437bb"
   },
   "source": [
    "Agora que temos um modelo ajustado pelo conjunto de treino, podemos usá-lo para fazer previsões nos dados de teste ou em dados externos ao dataset original!"
   ]
  },
  {
   "cell_type": "code",
   "execution_count": 21,
   "metadata": {
    "_cell_guid": "cd6bded9-35a7-478a-8616-9d37e7a2a783",
    "_uuid": "19bb827c7aa5a17feeef4dc368cc8da95cc9b09a",
    "collapsed": false
   },
   "outputs": [
    {
     "name": "stdout",
     "output_type": "stream",
     "text": [
      "Prevendo o valor para as 5 primeiras casas do conjunto de teste:\n",
      "       Rooms  Bathroom  Landsize  Lattitude  Longtitude\n",
      "5379       2       2.0       0.0  -37.81660   145.00360\n",
      "11334      3       2.0     801.0  -37.98596   145.13187\n",
      "2259       2       1.0     553.0  -37.88020   144.99420\n",
      "3833       2       1.0     196.0  -37.87960   145.08760\n",
      "6681       4       2.0     417.0  -37.81970   144.89690\n",
      "Os preços previstos são:\n",
      "[  946099.54479712  1578570.34873167   812718.42083552   865797.63221243\n",
      "  1416680.59489417]\n"
     ]
    }
   ],
   "source": [
    "print(\"Prevendo o valor para as 5 primeiras casas do conjunto de teste:\")\n",
    "print(X_test.head())\n",
    "print(\"Os preços previstos são:\")\n",
    "print(melbourne_model.predict(X_test.head()))"
   ]
  },
  {
   "cell_type": "markdown",
   "metadata": {
    "_cell_guid": "ab6189e0-8a2c-4cc2-89dc-ac71ffac5e7c",
    "_uuid": "ee8a624a186babbcdc09655089ba2067e206118e"
   },
   "source": [
    "## Avaliando seu modelo\n",
    "Existem diversas métricas para avaliar um modelo de aprendizagem de máquina. Para regressão linear, uma métrica comum é o **Coeficiente de Deteminação (R<sup>2</sup>)**, que pode ser entendido como a porcentagem de variação da variável alvo que é explicada pelos features selecionados."
   ]
  },
  {
   "cell_type": "code",
   "execution_count": 22,
   "metadata": {
    "collapsed": false
   },
   "outputs": [
    {
     "name": "stdout",
     "output_type": "stream",
     "text": [
      "O coeficiente de determinação (R^2) é:\n",
      "0.383421165989\n"
     ]
    }
   ],
   "source": [
    "print(\"O coeficiente de determinação (R^2) é:\")\n",
    "print(melbourne_model.score(X_test, y_test))"
   ]
  },
  {
   "cell_type": "markdown",
   "metadata": {},
   "source": [
    "Ou seja, as cinco variáveis selecionadas (Rooms, Bathroom, Landsize, Lattitude e Longtitude) explicam apenas cerca de 38% da variação do Preço dos imóveis neste conjunto de dados."
   ]
  }
 ],
 "metadata": {
  "kernelspec": {
   "display_name": "Python 3",
   "language": "python",
   "name": "python3"
  },
  "language_info": {
   "codemirror_mode": {
    "name": "ipython",
    "version": 3
   },
   "file_extension": ".py",
   "mimetype": "text/x-python",
   "name": "python",
   "nbconvert_exporter": "python",
   "pygments_lexer": "ipython3",
   "version": "3.6.0"
  }
 },
 "nbformat": 4,
 "nbformat_minor": 2
}
